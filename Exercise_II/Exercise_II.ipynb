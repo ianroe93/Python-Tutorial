{
 "cells": [
  {
   "cell_type": "markdown",
   "metadata": {},
   "source": [
    "# Exercise Set 2"
   ]
  },
  {
   "cell_type": "markdown",
   "metadata": {},
   "source": [
    "Below are five problems, each worth 1 point. These problems are interleaved with short tutorials on Python. This assignment will be autograded to ensure a quick turnaround. After each problem, there are tests associated with your answer which will help you determine if you have solved the problem correctly. If you can run the cell after your answer and not get any errors, then you very likely have gotten the question right. If you have errors, hopefully the error will help you identify the mistake.\n",
    "\n",
    "Note that just because you don't get errors doesn't mean that you got the question correct. I have some additional tests held back that I do not show here, though if you pass the ones shown, you will likely pass those as well.\n",
    "\n",
    "When you are done with the assignment, you should save this notebook manually by clicking on the save button in the toolbar (the floppy disk icon). **Do not rely on autosave. Save manually!** Ensure that you have not renamed the file. **The autograder that is used to grade this notebook requires that the file be named `Exercise_II.ipynb`.** Once you save the notebook, follow the instructions in the `README.md` file to submit the assignment."
   ]
  },
  {
   "cell_type": "markdown",
   "metadata": {},
   "source": [
    "Finally, you are encouraged to add new cells as you go through the notebook and experiment. Any cell that should not be copied or deleted is marked as such. As long as you don't copy or delete the cells marked as such, then you should feel free to experiment as much as you would like with this notebook."
   ]
  },
  {
   "cell_type": "markdown",
   "metadata": {},
   "source": [
    "The goal of this set of exercises is to introduce you to some fundamental programming concepts, particularly \"if\" statements and \"loops.\" The first time you see these concepts they can be overwhelming. You are encouraged to ensure that you understand each example thoroughly. If you are struggling to understand what an example does, it is often helpful to make a copy of the cell that contains the example (this can be done by going to the toolbar, selecting \"Edit\" then \"Copy Cell\" and then \"Paste Cell\") and modifying the example and seeing what happens when you change something. By playing around with the examples you should be able to build intuition about what is happening with the loops and if statements.\n",
    "\n",
    "Additionally, the exercises will require that your answers are written as functions. If you need a refresher on how to write a function (i.e. code needs to be indented and the answer needs to be `return`ed), refer back to Exercise I.\n",
    "\n",
    "The answer to the exercise should be closely related to an example in the material near the exercise. If you find yourself doing something significantly different or beyond what is presented in the examples in this exercise, you are likely on the wrong path. This exercise set is designed to introduce all of the python syntax and concepts necessary to complete each exercise, so carefully understanding the examples in the code should allow you to complete each exercise successfully."
   ]
  },
  {
   "cell_type": "markdown",
   "metadata": {},
   "source": [
    "#### Problem \\#1 - 1 point\n",
    "\n",
    "Given a list of numbers that is at least of length 2, write a function called `sum2` that returns the sum of the first 2 elements in the list. I.e.\n",
    "\n",
    "``` python\n",
    "sum2([1, 2, 3]) → 3\n",
    "sum2([1, 1]) → 2\n",
    "sum2([1, 1, 1, 1]) → 2\n",
    "```\n",
    "\n",
    "You may want to refer back to the section on \"Lists\" in Exercise 1 as you answer the above question.\n",
    "\n",
    "The grading cell will check the function at several values. If the function does not return the expected answer, then you will see an error. When the assignment is graded, there will be additional checks, but if you do not see an error when running the grading cell, you should feel fairly confident that your solution is correct. If you get an error, then your solution is incorrect."
   ]
  },
  {
   "cell_type": "code",
   "execution_count": 1,
   "metadata": {
    "deletable": false,
    "nbgrader": {
     "cell_type": "code",
     "checksum": "e32abc8842da6bb23ba32b568ba41208",
     "grade": false,
     "grade_id": "problem_1",
     "locked": false,
     "schema_version": 3,
     "solution": true,
     "task": false
    },
    "tags": []
   },
   "outputs": [],
   "source": [
    "# YOUR ANSWER SHOULD GO IN THIS CELL. DO NOT COPY THIS CELL.\n",
    "def sum2(num_list):\n",
    "    if len(num_list) >= 2:\n",
    "        return num_list[0] + num_list[1]\n",
    "    else: \n",
    "        return num_list[0]\n",
    "    \n",
    "# THIS IS A GRADING CELL. DO NOT EDIT AND DO NOT COPY."
   ]
  },
  {
   "cell_type": "code",
   "execution_count": 2,
   "metadata": {
    "deletable": false,
    "editable": false,
    "nbgrader": {
     "cell_type": "code",
     "checksum": "729136affb1ea985448df80b8acca86c",
     "grade": true,
     "grade_id": "problem_1_test",
     "locked": true,
     "points": 1,
     "schema_version": 3,
     "solution": false,
     "task": false
    },
    "tags": []
   },
   "outputs": [],
   "source": [
    "# THIS IS A GRADING CELL. DO NOT EDIT AND DO NOT COPY.\n",
    "from nose.tools import assert_equal\n",
    "assert_equal(sum2([1, 2, 3]), 3)\n",
    "assert_equal(sum2([1, 1]), 2)\n",
    "assert_equal(sum2([1, 1, 1, 1]), 2)"
   ]
  },
  {
   "cell_type": "markdown",
   "metadata": {},
   "source": [
    "## Relational Operators"
   ]
  },
  {
   "cell_type": "markdown",
   "metadata": {},
   "source": [
    "We have seen relational operators already in the \"Intro to Python.ipynb\" notebook, but they are foundational for many other aspects of programming, so we will look at them again. Fundamentally, these relational operators compare things and return either `True` or `False`."
   ]
  },
  {
   "cell_type": "markdown",
   "metadata": {},
   "source": [
    "| Symbol | Task Performed |\n",
    "|----|---|\n",
    "| == | True, if it is equal |\n",
    "| !=  | True, if not equal to |\n",
    "| < | less than |\n",
    "| > | greater than |\n",
    "| <=  | less than or equal to |\n",
    "| >=  | greater than or equal to |"
   ]
  },
  {
   "cell_type": "code",
   "execution_count": 3,
   "metadata": {
    "tags": []
   },
   "outputs": [],
   "source": [
    "z = 1"
   ]
  },
  {
   "cell_type": "markdown",
   "metadata": {},
   "source": [
    "Note that `=` and `==` are different things. `=` sets a variable equal to something. `==` tests if two things are equal, but it doesn't set anything equal."
   ]
  },
  {
   "cell_type": "code",
   "execution_count": 4,
   "metadata": {
    "collapsed": false,
    "jupyter": {
     "outputs_hidden": false
    },
    "tags": []
   },
   "outputs": [
    {
     "data": {
      "text/plain": [
       "True"
      ]
     },
     "execution_count": 4,
     "metadata": {},
     "output_type": "execute_result"
    }
   ],
   "source": [
    "z == 1"
   ]
  },
  {
   "cell_type": "code",
   "execution_count": 5,
   "metadata": {
    "tags": []
   },
   "outputs": [
    {
     "data": {
      "text/plain": [
       "False"
      ]
     },
     "execution_count": 5,
     "metadata": {},
     "output_type": "execute_result"
    }
   ],
   "source": [
    "z == 0"
   ]
  },
  {
   "cell_type": "code",
   "execution_count": 6,
   "metadata": {
    "tags": []
   },
   "outputs": [
    {
     "name": "stdout",
     "output_type": "stream",
     "text": [
      "1\n"
     ]
    }
   ],
   "source": [
    "print(z)"
   ]
  },
  {
   "cell_type": "code",
   "execution_count": 7,
   "metadata": {
    "collapsed": false,
    "jupyter": {
     "outputs_hidden": false
    },
    "tags": []
   },
   "outputs": [
    {
     "data": {
      "text/plain": [
       "False"
      ]
     },
     "execution_count": 7,
     "metadata": {},
     "output_type": "execute_result"
    }
   ],
   "source": [
    "z > 1"
   ]
  },
  {
   "cell_type": "code",
   "execution_count": 8,
   "metadata": {
    "tags": []
   },
   "outputs": [
    {
     "data": {
      "text/plain": [
       "True"
      ]
     },
     "execution_count": 8,
     "metadata": {},
     "output_type": "execute_result"
    }
   ],
   "source": [
    "z >= 1"
   ]
  },
  {
   "cell_type": "markdown",
   "metadata": {},
   "source": [
    "Boolean operators take two boolean values (either `True` or `False`) and return a boolean values for two variables a and b, the resulting output for the `and` operator is,\n",
    "\n",
    "| a | b | a and b |\n",
    "|----|---|---|\n",
    "| `True` | `True` | `True` |\n",
    "| `False`  | `True` | `False` |\n",
    "| `True` | `False` | `False` |\n",
    "| `False` | `False` | `False` |\n",
    "\n",
    "I.e., it's only `True` if both inputs are `True`. For the `or` operator, it is `True` if at least one of the inputs is `True`:\n",
    "\n",
    "| a | b | a or b |\n",
    "|----|---|---|\n",
    "| `True` | `True` | `True` |\n",
    "| `False`  | `True` | `True` |\n",
    "| `True` | `False` | `True` |\n",
    "| `False` | `False` | `False` |\n",
    "\n",
    "A simple but important boolean operator is `not`,\n",
    "\n",
    "| a | not a |\n",
    "|----|---|\n",
    "| `True` | `False` |\n",
    "| `False`  | `True` |"
   ]
  },
  {
   "cell_type": "code",
   "execution_count": 9,
   "metadata": {
    "collapsed": false,
    "jupyter": {
     "outputs_hidden": false
    },
    "tags": []
   },
   "outputs": [
    {
     "name": "stdout",
     "output_type": "stream",
     "text": [
      "a is False\n",
      "b is True\n",
      "a or b is True\n",
      "a and b is False\n",
      "not a is True\n"
     ]
    }
   ],
   "source": [
    "a = (1 > 3)\n",
    "b = (3 == 3)\n",
    "print(\"a is \" + str(a))\n",
    "print(\"b is \" + str(b))\n",
    "print(\"a or b is \" + str(a or b))\n",
    "print(\"a and b is \" + str(a and b))\n",
    "print(\"not a is \" + str(not a))"
   ]
  },
  {
   "cell_type": "markdown",
   "metadata": {},
   "source": [
    "Why did I use `str` when I wanted to print things out? Remember, we can add strings together. Let's see what happens when we don't use it."
   ]
  },
  {
   "cell_type": "code",
   "execution_count": 10,
   "metadata": {
    "tags": []
   },
   "outputs": [
    {
     "ename": "TypeError",
     "evalue": "can only concatenate str (not \"bool\") to str",
     "output_type": "error",
     "traceback": [
      "\u001b[0;31m---------------------------------------------------------------------------\u001b[0m",
      "\u001b[0;31mTypeError\u001b[0m                                 Traceback (most recent call last)",
      "Cell \u001b[0;32mIn[10], line 1\u001b[0m\n\u001b[0;32m----> 1\u001b[0m \u001b[38;5;28mprint\u001b[39m(\u001b[38;5;124;43m\"\u001b[39;49m\u001b[38;5;124;43ma is \u001b[39;49m\u001b[38;5;124;43m\"\u001b[39;49m\u001b[43m \u001b[49m\u001b[38;5;241;43m+\u001b[39;49m\u001b[43m \u001b[49m\u001b[43ma\u001b[49m)\n",
      "\u001b[0;31mTypeError\u001b[0m: can only concatenate str (not \"bool\") to str"
     ]
    }
   ],
   "source": [
    "print(\"a is \" + a)"
   ]
  },
  {
   "cell_type": "markdown",
   "metadata": {},
   "source": [
    "This is another example of a \"traceback error\". This one says `TypeError: can only concatenate str (not \"bool\") to str`. That is becuase we are trying to \"add\" two things together that aren't the same. `a` is a \"bool\" (or a True or False value, a.k.a. Boolean), and `\"a is \"` is a str (or string). We can confirm that with the `type` function."
   ]
  },
  {
   "cell_type": "code",
   "execution_count": 11,
   "metadata": {
    "tags": []
   },
   "outputs": [
    {
     "name": "stdout",
     "output_type": "stream",
     "text": [
      "<class 'str'>\n",
      "<class 'bool'>\n"
     ]
    }
   ],
   "source": [
    "print(type(\"a is \"))\n",
    "print(type(a))"
   ]
  },
  {
   "cell_type": "markdown",
   "metadata": {},
   "source": [
    "## `if` Statements or Making Choices"
   ]
  },
  {
   "cell_type": "markdown",
   "metadata": {},
   "source": [
    "Often we want to check if a condition is True and take one action if it is, and another action if the\n",
    "condition is False. We can achieve this in Python with an if statement.\n",
    "\n",
    "__TIP:__ You can use any expression that returns a boolean value (True or False) in an if statement."
   ]
  },
  {
   "cell_type": "markdown",
   "metadata": {},
   "source": [
    "`if` statements really just give you a way to let the code make a decision. The below piece of code only prints something if `x > 0` (i.e., `x` is positive). Try changing the value of `x` to see how the result changes."
   ]
  },
  {
   "cell_type": "code",
   "execution_count": 12,
   "metadata": {
    "tags": []
   },
   "outputs": [
    {
     "name": "stdout",
     "output_type": "stream",
     "text": [
      "x is positive.\n"
     ]
    }
   ],
   "source": [
    "x = 3\n",
    "\n",
    "if x > 0:\n",
    "    print('x is positive.')"
   ]
  },
  {
   "cell_type": "markdown",
   "metadata": {},
   "source": [
    "We can make a series of decisions as well. We do this be using `if` for the first decision, and if that condition doesn't hold, we move on to the next condition. The next condition is denoted with either an `elif` (short for else if) if we want to have another check, or we can use `else` which will always run at the end. Note `else` must be the last condition checked because it will always do it's action. The below piece of code first checks to see if `x` is positive. If it is it prints `x is positive`. If it is not, it then checks to see if `x` is negative. If it is not negative either, then it does the action in the `else` statement. If it has reached the `else` statement, we can logically know that `x` must be zero since it was neither positive nor negative."
   ]
  },
  {
   "cell_type": "code",
   "execution_count": 13,
   "metadata": {
    "collapsed": false,
    "jupyter": {
     "outputs_hidden": false
    },
    "tags": []
   },
   "outputs": [
    {
     "name": "stdout",
     "output_type": "stream",
     "text": [
      "x is positive\n"
     ]
    }
   ],
   "source": [
    "# Try changing x and re-running this block, and see what happens.\n",
    "x = 3\n",
    "if x > 0:\n",
    "    print('x is positive')\n",
    "elif x < 0:\n",
    "    print('x is negative')\n",
    "else:\n",
    "    print('x is zero')"
   ]
  },
  {
   "cell_type": "code",
   "execution_count": 14,
   "metadata": {
    "collapsed": false,
    "jupyter": {
     "outputs_hidden": false
    },
    "tags": []
   },
   "outputs": [
    {
     "name": "stdout",
     "output_type": "stream",
     "text": [
      "<class 'bool'>\n",
      "False\n"
     ]
    }
   ],
   "source": [
    "# If statements can rely on boolean variables\n",
    "x = -1\n",
    "test = (x > 0)\n",
    "print(type(test))\n",
    "print(test)\n",
    "\n",
    "if test:\n",
    "    print('Test was true')"
   ]
  },
  {
   "cell_type": "markdown",
   "metadata": {},
   "source": [
    "#### Problem #2- 1 point\n",
    "\n",
    "Write a function called `sorta_sum` that given 2 numbers, a and b, return their sum. However, sums in the range 10..19 inclusive, are forbidden, so in that case just return 20.\n",
    "\n",
    "``` python\n",
    "sorta_sum(3, 4) → 7\n",
    "sorta_sum(9, 4) → 20\n",
    "sorta_sum(10, 9) → 20\n",
    "sorta_sum(1, 9) → 20\n",
    "sorta_sum(10,11) → 21\n",
    "```\n",
    "\n",
    "You will need to handle the case when the sum is in between 10..19. This is a time where being able to do things conditionally is very helpful.\n",
    "\n",
    "The grading cell will check the function at several values. If the function does not return the expected answer, then you will see an error. When the assignment is graded, there will be additional checks, but if you do not see an error when running the grading cell, you should feel fairly confident that your solution is correct. If you get an error, then your solution is incorrect."
   ]
  },
  {
   "cell_type": "code",
   "execution_count": 15,
   "metadata": {
    "deletable": false,
    "nbgrader": {
     "cell_type": "code",
     "checksum": "344a72f9c16f5839a8227d86d04d9a26",
     "grade": false,
     "grade_id": "problem_2",
     "locked": false,
     "schema_version": 3,
     "solution": true,
     "task": false
    },
    "tags": []
   },
   "outputs": [],
   "source": [
    "# YOUR ANSWER SHOULD GO IN THIS CELL. DO NOT COPY THIS CELL.\n",
    "def sorta_sum(a, b):\n",
    "    total = a + b\n",
    "    if total >= 10 and total <= 19:\n",
    "        return 20\n",
    "    else:\n",
    "        return total\n",
    "    \n",
    "# THIS IS A GRADING CELL. DO NOT EDIT AND DO NOT COPY."
   ]
  },
  {
   "cell_type": "code",
   "execution_count": 16,
   "metadata": {
    "deletable": false,
    "editable": false,
    "nbgrader": {
     "cell_type": "code",
     "checksum": "c600a225cc55625cc2d6340a07ce7654",
     "grade": true,
     "grade_id": "problem_2_test",
     "locked": true,
     "points": 1,
     "schema_version": 3,
     "solution": false,
     "task": false
    },
    "tags": []
   },
   "outputs": [],
   "source": [
    "# THIS IS A GRADING CELL. DO NOT EDIT AND DO NOT COPY.\n",
    "from nose.tools import assert_equal\n",
    "assert_equal(sorta_sum(3, 4), 7)\n",
    "assert_equal(sorta_sum(9, 4), 20)\n",
    "assert_equal(sorta_sum(10, 11), 21)\n",
    "assert_equal(sorta_sum(10, 9), 20)\n",
    "assert_equal(sorta_sum(1, 9), 20)\n",
    "assert_equal(sorta_sum(10, 9.5), 19.5)"
   ]
  },
  {
   "cell_type": "markdown",
   "metadata": {},
   "source": [
    "## Loops or How to Repeat Yourself"
   ]
  },
  {
   "cell_type": "markdown",
   "metadata": {},
   "source": [
    "The power of programming is not in doing one thing one thing, it is in doing many things many times. Often times, we want to repeat ourselves. The two most common ways of doing this are known as `for`\n",
    "loops and `while` loops. For loops in Python are useful when you want to cycle over all of the items\n",
    "in a collection (such as all of the elements of an array or a list, see Exercise I for a refresher on these collections), and while loops are useful when you want to\n",
    "cycle for an indefinite amount of time until some condition is met.\n",
    "\n",
    "The basic examples below will work for looping over lists, tuples, and arrays. Looping over dictionaries\n",
    "is a bit different, since there is a key and a value for each item in a dictionary. Have a look at the\n",
    "Python docs for more information."
   ]
  },
  {
   "cell_type": "code",
   "execution_count": 17,
   "metadata": {
    "collapsed": false,
    "jupyter": {
     "outputs_hidden": false
    },
    "tags": []
   },
   "outputs": [
    {
     "name": "stdout",
     "output_type": "stream",
     "text": [
      "hi!\n",
      "hello!\n",
      "bye!\n"
     ]
    }
   ],
   "source": [
    "# A basic for loop - don't forget the white space!\n",
    "wordlist = ['hi', 'hello', 'bye']\n",
    "for word in wordlist:\n",
    "    print(word + '!')"
   ]
  },
  {
   "cell_type": "markdown",
   "metadata": {},
   "source": [
    "**Note on indentation**: Notice the indentation once we enter the `for` loop.  Every idented statement after the `for` loop declaration is part of the `for` loop.  This rule holds true for `while` loops, `if` statements, functions, etc. Required identation is one of the reasons Python is such a beautiful language to read.\n",
    "\n",
    "If you do not have consistent indentation you will get an `IndentationError`.  Fortunately, most code editors will ensure your indentation is correction.\n",
    "\n",
    "__NOTE__ In Python the default is to use four (4) spaces for each indentation. This will happen automatically in a Jupyter Notebook if you hit tab at a place where you can indent things."
   ]
  },
  {
   "cell_type": "markdown",
   "metadata": {},
   "source": [
    "When you run the below cell, you will get an `IndentationError`. Run the cell to see the error, and then try to fix it yourself."
   ]
  },
  {
   "cell_type": "code",
   "execution_count": 20,
   "metadata": {
    "collapsed": false,
    "jupyter": {
     "outputs_hidden": false
    },
    "tags": []
   },
   "outputs": [
    {
     "name": "stdout",
     "output_type": "stream",
     "text": [
      "Hi!\n",
      "Hello!\n",
      "Bye!\n"
     ]
    }
   ],
   "source": [
    "# Indentation error: Fix it!\n",
    "for word in wordlist:\n",
    "    new_word = word.capitalize()\n",
    "    print(new_word + '!') # Bad indent"
   ]
  },
  {
   "cell_type": "markdown",
   "metadata": {},
   "source": [
    "Here, we loop over a list and we sum up the values. Remember, even though `total = total + num` seems like a weird formula if you are thinking about high school algebra, it is perfectly fine in programming. What it is saying is take whatever is currently in the variable `total`, add `num` to it, and then overwrite the variable `total` with this new result. This is a common way to accumulate things over time.\n",
    "\n",
    "We start with `total` being `0` so that in the first iteration of the loop, the starting value is `0`."
   ]
  },
  {
   "cell_type": "code",
   "execution_count": 21,
   "metadata": {
    "collapsed": false,
    "jupyter": {
     "outputs_hidden": false
    },
    "tags": []
   },
   "outputs": [
    {
     "name": "stdout",
     "output_type": "stream",
     "text": [
      "Sum is 85\n"
     ]
    }
   ],
   "source": [
    "# Sum all of the values in a collection using a for loop\n",
    "numlist = [1, 4, 77, 3]\n",
    "total = 0\n",
    "\n",
    "for num in numlist:\n",
    "    total = total + num\n",
    "    \n",
    "print(\"Sum is\", total)"
   ]
  },
  {
   "cell_type": "markdown",
   "metadata": {},
   "source": [
    "`while` loops are useful when you don't know how many steps you will need, and want to stop once a certain condition is met. They keep going until a condition is `False`."
   ]
  },
  {
   "cell_type": "code",
   "execution_count": 22,
   "metadata": {
    "collapsed": false,
    "jupyter": {
     "outputs_hidden": false
    },
    "tags": []
   },
   "outputs": [
    {
     "name": "stdout",
     "output_type": "stream",
     "text": [
      "1 2\n",
      "2 4\n",
      "3 8\n",
      "4 16\n",
      "5 32\n",
      "6 64\n",
      "7 128\n",
      "Reached a product of 128 at step number 7\n"
     ]
    }
   ],
   "source": [
    "step = 0\n",
    "prod = 1\n",
    "while prod < 100:\n",
    "    step = step + 1\n",
    "    prod = prod * 2\n",
    "    print(step, prod)\n",
    "    \n",
    "print('Reached a product of', prod, 'at step number', step)"
   ]
  },
  {
   "cell_type": "markdown",
   "metadata": {},
   "source": [
    "We will often want to loop over a list of integers. We can do this with `range`."
   ]
  },
  {
   "cell_type": "code",
   "execution_count": 23,
   "metadata": {
    "tags": []
   },
   "outputs": [
    {
     "name": "stdout",
     "output_type": "stream",
     "text": [
      "0\n",
      "1\n",
      "2\n",
      "3\n",
      "4\n",
      "5\n",
      "6\n",
      "7\n",
      "8\n",
      "9\n"
     ]
    }
   ],
   "source": [
    "for i in range(10):\n",
    "    print(i)"
   ]
  },
  {
   "cell_type": "code",
   "execution_count": 24,
   "metadata": {
    "tags": []
   },
   "outputs": [
    {
     "name": "stdout",
     "output_type": "stream",
     "text": [
      "2\n",
      "3\n",
      "4\n",
      "5\n",
      "6\n",
      "7\n",
      "8\n",
      "9\n"
     ]
    }
   ],
   "source": [
    "for i in range(2,10):\n",
    "    print(i)"
   ]
  },
  {
   "cell_type": "code",
   "execution_count": 25,
   "metadata": {
    "tags": []
   },
   "outputs": [
    {
     "name": "stdout",
     "output_type": "stream",
     "text": [
      "2\n",
      "6\n"
     ]
    }
   ],
   "source": [
    "for i in range(2,10,4):\n",
    "    print(i)"
   ]
  },
  {
   "cell_type": "code",
   "execution_count": 26,
   "metadata": {
    "tags": []
   },
   "outputs": [
    {
     "data": {
      "text/plain": [
       "\u001b[0;31mInit signature:\u001b[0m \u001b[0mrange\u001b[0m\u001b[0;34m(\u001b[0m\u001b[0mself\u001b[0m\u001b[0;34m,\u001b[0m \u001b[0;34m/\u001b[0m\u001b[0;34m,\u001b[0m \u001b[0;34m*\u001b[0m\u001b[0margs\u001b[0m\u001b[0;34m,\u001b[0m \u001b[0;34m**\u001b[0m\u001b[0mkwargs\u001b[0m\u001b[0;34m)\u001b[0m\u001b[0;34m\u001b[0m\u001b[0;34m\u001b[0m\u001b[0m\n",
       "\u001b[0;31mDocstring:\u001b[0m     \n",
       "range(stop) -> range object\n",
       "range(start, stop[, step]) -> range object\n",
       "\n",
       "Return an object that produces a sequence of integers from start (inclusive)\n",
       "to stop (exclusive) by step.  range(i, j) produces i, i+1, i+2, ..., j-1.\n",
       "start defaults to 0, and stop is omitted!  range(4) produces 0, 1, 2, 3.\n",
       "These are exactly the valid indices for a list of 4 elements.\n",
       "When step is given, it specifies the increment (or decrement).\n",
       "\u001b[0;31mType:\u001b[0m           type\n",
       "\u001b[0;31mSubclasses:\u001b[0m     "
      ]
     },
     "metadata": {},
     "output_type": "display_data"
    }
   ],
   "source": [
    "?range"
   ]
  },
  {
   "cell_type": "markdown",
   "metadata": {},
   "source": [
    "`range` does not actually give us a `list`, it gives us a `generator` which we can pull values from. However, we can't use it like a list."
   ]
  },
  {
   "cell_type": "code",
   "execution_count": 27,
   "metadata": {
    "tags": []
   },
   "outputs": [
    {
     "name": "stdout",
     "output_type": "stream",
     "text": [
      "range(2, 10)\n"
     ]
    }
   ],
   "source": [
    "a = range(2,10)\n",
    "print(a)"
   ]
  },
  {
   "cell_type": "markdown",
   "metadata": {},
   "source": [
    "A list would have printed the values. To make it a list, we can use the `list` function."
   ]
  },
  {
   "cell_type": "code",
   "execution_count": 28,
   "metadata": {
    "tags": []
   },
   "outputs": [
    {
     "name": "stdout",
     "output_type": "stream",
     "text": [
      "[2, 3, 4, 5, 6, 7, 8, 9]\n",
      "[2, 3, 4, 5, 6, 7, 8, 9]\n"
     ]
    }
   ],
   "source": [
    "print(list(a))\n",
    "print(list(range(2,10)))"
   ]
  },
  {
   "cell_type": "markdown",
   "metadata": {},
   "source": [
    "#### Problem \\#3 - 1 point\n",
    "\n",
    "Write a function that takes an integer `n` and computes the squares of `1,...,n`. I.e., if `n=3`, the output should be the list `[1, 4, 9]`. If `n=5`, the output should be `[1, 4, 9, 16, 25]`.\n",
    "\n",
    "It may be helpful to start with setting a variable equal to an empty list, something like `temp = []`, and then using the `.append` method (see the \"List\" section of Exercise I for a refresher) to add items to the list as you loop over the integers. Also, remember that `range(1,5)` only loops from `[1,2,3,4]` (it does not include `5`). Don't forget to `return` the new list you made.\n",
    "\n",
    "The grading cell will check the function at several values. If the function does not return the expected answer, then you will see an error. When the assignment is graded, there will be additional checks, but if you do not see an error when running the grading cell, you should feel fairly confident that your solution is correct. If you get an error, then your solution is incorrect."
   ]
  },
  {
   "cell_type": "code",
   "execution_count": 29,
   "metadata": {
    "deletable": false,
    "nbgrader": {
     "cell_type": "code",
     "checksum": "7b56581e9e67606d2cfe42a26ba92cc5",
     "grade": false,
     "grade_id": "problem_3",
     "locked": false,
     "schema_version": 3,
     "solution": true,
     "task": false
    },
    "tags": []
   },
   "outputs": [],
   "source": [
    "# YOUR ANSWER SHOULD GO IN THIS CELL. DO NOT COPY THIS CELL.\n",
    "def squares(n):\n",
    "    \"\"\"Compute squares\"\"\"\n",
    "    square_list = []\n",
    "    for i in range(1, n+1):\n",
    "        square_list.append(i**2)\n",
    "        \n",
    "    return square_list\n",
    "# THIS IS A GRADING CELL. DO NOT EDIT AND DO NOT COPY."
   ]
  },
  {
   "cell_type": "code",
   "execution_count": 30,
   "metadata": {
    "deletable": false,
    "editable": false,
    "nbgrader": {
     "cell_type": "code",
     "checksum": "833a6f6c449cb4c20d7cf70ed5e1c4e3",
     "grade": true,
     "grade_id": "problem_3_tests",
     "locked": true,
     "points": 1,
     "schema_version": 3,
     "solution": false,
     "task": false
    },
    "tags": []
   },
   "outputs": [],
   "source": [
    "# THIS IS A GRADING CELL. DO NOT EDIT AND DO NOT COPY.\n",
    "from nose.tools import assert_equal\n",
    "assert_equal(squares(1), [1])\n",
    "assert_equal(squares(3), [1, 4, 9])\n",
    "assert_equal(squares(5), [1, 4, 9, 16, 25])"
   ]
  },
  {
   "cell_type": "markdown",
   "metadata": {},
   "source": [
    "#### Problem \\#4 - 1 point\n",
    "\n",
    "Write a function that takes a list of numbers called `num_list`, and returns the list with only the numbers less than or equal to an optional parameter `upper_limit`. For example, if the list `[1, 7, 4, 12, 19, 5]` is the input list, and the optional parameter `upper_limit` is set to `10`, then it should return the list `[1, 7, 4, 5]`.\n",
    "\n",
    "You will likely want to use the empty temporary list trick again for this question. However, this time you will only append to the list if the item from the `num_list` meets a certain criteria. Any time you are making a decision over things, an `if` statement is typically useful.\n",
    "\n",
    "The grading cell will check the function at several values. If the function does not return the expected answer, then you will see an error. When the assignment is graded, there will be additional checks, but if you do not see an error when running the grading cell, you should feel fairly confident that your solution is correct. If you get an error, then your solution is incorrect."
   ]
  },
  {
   "cell_type": "code",
   "execution_count": 31,
   "metadata": {
    "deletable": false,
    "nbgrader": {
     "cell_type": "code",
     "checksum": "045c22fa9e830a41876929f4e61b947c",
     "grade": false,
     "grade_id": "problem_4",
     "locked": false,
     "schema_version": 3,
     "solution": true,
     "task": false
    },
    "tags": []
   },
   "outputs": [],
   "source": [
    "# YOUR ANSWER SHOULD GO IN THIS CELL. DO NOT COPY THIS CELL.\n",
    "def filter_list(num_list, upper_limit = 10):\n",
    "    '''Filter a list of numbers by the upper_limit'''\n",
    "    filtered_list = []\n",
    "    for num in num_list:\n",
    "        if num <= upper_limit:\n",
    "            filtered_list.append(num)\n",
    "            \n",
    "    return filtered_list\n",
    "# THIS IS A GRADING CELL. DO NOT EDIT AND DO NOT COPY."
   ]
  },
  {
   "cell_type": "code",
   "execution_count": 32,
   "metadata": {
    "deletable": false,
    "editable": false,
    "nbgrader": {
     "cell_type": "code",
     "checksum": "bbd4a828ab9e2332ddf9ba295ee4520f",
     "grade": true,
     "grade_id": "problem_4_test",
     "locked": true,
     "points": 1,
     "schema_version": 3,
     "solution": false,
     "task": false
    },
    "tags": []
   },
   "outputs": [],
   "source": [
    "# THIS IS A GRADING CELL. DO NOT EDIT AND DO NOT COPY.\n",
    "from nose.tools import assert_equal\n",
    "assert_equal(filter_list([1, 7, 4, 12, 19, 5], upper_limit=10), [1, 7, 4, 5])\n",
    "assert_equal(filter_list([1, 7, 4, 12, 19, 5]), [1, 7, 4, 5])"
   ]
  },
  {
   "cell_type": "markdown",
   "metadata": {},
   "source": [
    "#### Problem \\#5 - 1 point\n",
    "\n",
    "Write a function called `flip_it_and_reverse_it` that takes a list called `input_list` and returns the reverse of the list. For example, the list `[1, 2, 3, 4]` would return `[4, 3, 2, 1]`. The list `[\"This\", \"is\", \"not\", \"a\", \"palindrome\"]` would return `[\"palindrome\", \"a\", \"not\", \"is\", \"This\"]`.\n",
    "\n",
    "You will need to loop over the reversed list. In the \"List\" section of Exercise I there is a simple way to reverse a list.\n",
    "\n",
    "The grading cell will check the function at several values. If the function does not return the expected answer, then you will see an error. When the assignment is graded, there will be additional checks, but if you do not see an error when running the grading cell, you should feel fairly confident that your solution is correct. If you get an error, then your solution is incorrect."
   ]
  },
  {
   "cell_type": "code",
   "execution_count": 33,
   "metadata": {
    "deletable": false,
    "nbgrader": {
     "cell_type": "code",
     "checksum": "2a71f078f81555469ea7d76a5ffe6ff2",
     "grade": false,
     "grade_id": "problem_5",
     "locked": false,
     "schema_version": 3,
     "solution": true,
     "task": false
    },
    "tags": []
   },
   "outputs": [],
   "source": [
    "# YOUR ANSWER SHOULD GO IN THIS CELL. DO NOT COPY THIS CELL.\n",
    "def flip_it_and_reverse_it(input_list):\n",
    "    '''Flip the list and reverse it'''\n",
    "    flipped_list = []\n",
    "    for item in input_list:\n",
    "        flipped_list.insert(0, item)\n",
    "        \n",
    "    return flipped_list\n",
    "# THIS IS A GRADING CELL. DO NOT EDIT AND DO NOT COPY."
   ]
  },
  {
   "cell_type": "code",
   "execution_count": 34,
   "metadata": {
    "deletable": false,
    "editable": false,
    "nbgrader": {
     "cell_type": "code",
     "checksum": "89bca5e5c4ab1037e1adda275839c7b5",
     "grade": true,
     "grade_id": "problem_5_test",
     "locked": true,
     "points": 1,
     "schema_version": 3,
     "solution": false,
     "task": false
    },
    "tags": []
   },
   "outputs": [],
   "source": [
    "# THIS IS A GRADING CELL. DO NOT EDIT AND DO NOT COPY.\n",
    "from nose.tools import assert_equal\n",
    "assert_equal(flip_it_and_reverse_it([1, 2, 3, 4]), [4, 3, 2, 1])\n",
    "assert_equal(flip_it_and_reverse_it([\"This\", \"is\", \"not\", \"a\", \"palindrome\"]), [\"palindrome\", \"a\", \"not\", \"is\", \"This\"])"
   ]
  }
 ],
 "metadata": {
  "kernelspec": {
   "display_name": "Python 3 (ipykernel)",
   "language": "python",
   "name": "python3"
  },
  "language_info": {
   "codemirror_mode": {
    "name": "ipython",
    "version": 3
   },
   "file_extension": ".py",
   "mimetype": "text/x-python",
   "name": "python",
   "nbconvert_exporter": "python",
   "pygments_lexer": "ipython3",
   "version": "3.11.4"
  }
 },
 "nbformat": 4,
 "nbformat_minor": 4
}
